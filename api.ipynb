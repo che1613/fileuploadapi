{
 "cells": [
  {
   "cell_type": "code",
   "execution_count": 1,
   "id": "db3fb5f2-06f6-4390-bfcd-db8726e5d1fd",
   "metadata": {},
   "outputs": [
    {
     "ename": "ModuleNotFoundError",
     "evalue": "No module named 'fastapi'",
     "output_type": "error",
     "traceback": [
      "\u001b[0;31m---------------------------------------------------------------------------\u001b[0m",
      "\u001b[0;31mModuleNotFoundError\u001b[0m                       Traceback (most recent call last)",
      "Cell \u001b[0;32mIn[1], line 1\u001b[0m\n\u001b[0;32m----> 1\u001b[0m \u001b[38;5;28;01mfrom\u001b[39;00m \u001b[38;5;21;01mfastapi\u001b[39;00m \u001b[38;5;28;01mimport\u001b[39;00m FastAPI, File, UploadFile, HTTPException\n\u001b[1;32m      2\u001b[0m \u001b[38;5;28;01mfrom\u001b[39;00m \u001b[38;5;21;01mfastapi\u001b[39;00m\u001b[38;5;21;01m.\u001b[39;00m\u001b[38;5;21;01mresponses\u001b[39;00m \u001b[38;5;28;01mimport\u001b[39;00m FileResponse\n\u001b[1;32m      3\u001b[0m \u001b[38;5;28;01mfrom\u001b[39;00m \u001b[38;5;21;01muuid\u001b[39;00m \u001b[38;5;28;01mimport\u001b[39;00m uuid4\n",
      "\u001b[0;31mModuleNotFoundError\u001b[0m: No module named 'fastapi'"
     ]
    }
   ],
   "source": [
    "from fastapi import FastAPI, File, UploadFile, HTTPException\n",
    "from fastapi.responses import FileResponse\n",
    "from uuid import uuid4\n",
    "from pathlib import Path\n",
    "\n",
    "# Initialize FastAPI app\n",
    "app = FastAPI()\n",
    "\n",
    "# Folder to save uploaded files\n",
    "upload_folder = Path(\"uploads\")\n",
    "if not upload_folder.exists():\n",
    "    upload_folder.mkdir()  # Create folder if it doesn't exist\n",
    "\n",
    "# Dictionary to store file information\n",
    "file_info = {}\n",
    "\n",
    "@app.post(\"/upload/\")\n",
    "async def upload_file(file: UploadFile = File(...)):\n",
    "    \"\"\"\n",
    "    Endpoint to upload a file.\n",
    "    \"\"\"\n",
    "    # Generate a unique file ID\n",
    "    file_id = str(uuid4())\n",
    "\n",
    "    # Validate that the file is an image\n",
    "    if not file.content_type.startswith(\"image/\"):\n",
    "        raise HTTPException(status_code=400, detail=\"Only image files are allowed.\")\n",
    "\n",
    "    # Save the file in the uploads folder\n",
    "    file_path = upload_folder / f\"{file_id}_{file.filename}\"\n",
    "    with open(file_path, \"wb\") as f:\n",
    "        f.write(await file.read())\n",
    "\n",
    "    # Store file information\n",
    "    file_info[file_id] = {\"filename\": file.filename, \"status\": \"uploaded\"}\n",
    "\n",
    "    return {\"file_id\": file_id, \"filename\": file.filename}\n",
    "\n",
    "@app.get(\"/status/{file_id}/\")\n",
    "def get_status(file_id: str):\n",
    "    \"\"\"\n",
    "    Endpoint to check the status of an uploaded file.\n",
    "    \"\"\"\n",
    "    if file_id not in file_info:\n",
    "        raise HTTPException(status_code=404, detail=\"File not found.\")\n",
    "\n",
    "    return file_info[file_id]\n",
    "\n",
    "@app.get(\"/files/{file_id}/\")\n",
    "def get_file(file_id: str):\n",
    "    \"\"\"\n",
    "    Endpoint to retrieve a file by its unique ID.\n",
    "    \"\"\"\n",
    "    if file_id not in file_info:\n",
    "        raise HTTPException(status_code=404, detail=\"File not found.\")\n",
    "\n",
    "    file_path = upload_folder / f\"{file_id}_{file_info[file_id]['filename']}\"\n",
    "    if not file_path.exists():\n",
    "        raise HTTPException(status_code=404, detail=\"File not found on disk.\")\n",
    "\n",
    "    return FileResponse(file_path)\n",
    "\n",
    "if __name__ == \"__main__\":\n",
    "    import uvicorn\n",
    "    uvicorn.run(app, host=\"0.0.0.0\", port=8000)\n"
   ]
  },
  {
   "cell_type": "code",
   "execution_count": null,
   "id": "0cb66aac-658f-41f6-8aa6-b13daf735ed5",
   "metadata": {},
   "outputs": [],
   "source": []
  }
 ],
 "metadata": {
  "kernelspec": {
   "display_name": "Python [conda env:base] *",
   "language": "python",
   "name": "conda-base-py"
  },
  "language_info": {
   "codemirror_mode": {
    "name": "ipython",
    "version": 3
   },
   "file_extension": ".py",
   "mimetype": "text/x-python",
   "name": "python",
   "nbconvert_exporter": "python",
   "pygments_lexer": "ipython3",
   "version": "3.12.7"
  }
 },
 "nbformat": 4,
 "nbformat_minor": 5
}
